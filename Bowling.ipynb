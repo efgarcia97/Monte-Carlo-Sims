{
 "cells": [
  {
   "cell_type": "markdown",
   "metadata": {},
   "source": [
    "# Bowling Code Hw "
   ]
  },
  {
   "cell_type": "markdown",
   "metadata": {},
   "source": [
    "### Finding a way to measure the number of pins knocked down by a player"
   ]
  },
  {
   "cell_type": "markdown",
   "metadata": {},
   "source": [
    "Player skill level determines roughly how many pins will be knocked down by the end of one frame. In this code, we will take the player's skill level from a Beta Distribution which ranges from 0 to 1, where 0 is a player's ability to hit absolutley no pins are hit ever, and 1 is the players ability to get a strike on every frame. We are using a Beta Distribution because this distribution can randomly give us probabilites for a player. Unless the player is a proffesional, the player is most likely not going to get a Strike every frame. Furthermore if the player is actually trying, then they will get some pins and not score a 0 for all of the rounds. Technically these values are possible but not likely, and this will depend on the alpha and beta of the distribution. The goal of this code is to be able to create a distribution of scores. From there we can obtain the average score.\n",
    "\n",
    "To determine how strict we want our density of skill levels to be we are going to have to assign values for alpha and beta. We can see an example of a Players' distribtion by running the code below."
   ]
  },
  {
   "cell_type": "code",
   "execution_count": 1,
   "metadata": {},
   "outputs": [],
   "source": [
    "from scipy.stats import beta\n",
    "from statistics import mean \n",
    "import random\n",
    "import matplotlib.pyplot as plt\n",
    "import numpy as np"
   ]
  },
  {
   "cell_type": "code",
   "execution_count": 2,
   "metadata": {},
   "outputs": [
    {
     "data": {
      "text/plain": [
       "Text(0.5, 1.0, 'Players Skill level in a Bowling Game')"
      ]
     },
     "execution_count": 2,
     "metadata": {},
     "output_type": "execute_result"
    },
    {
     "data": {
      "image/png": "[encoded data removed]",
      "text/plain": [
       "<Figure size 432x288 with 1 Axes>"
      ]
     },
     "metadata": {
      "needs_background": "light"
     },
     "output_type": "display_data"
    }
   ],
   "source": [
    "a = 6 #alpha\n",
    "b = 6 #beta\n",
    "\n",
    "x = np.linspace(0,1,100)\n",
    "\n",
    "plt.plot(x, beta.pdf(x, a, b),\n",
    "        'r-', lw=1, alpha=0.6, label='beta pdf')\n",
    "plt.xlabel(\"Player's Skill Level\")\n",
    "plt.ylabel('Frequency')\n",
    "plt.title('Player''s Skill level in a Bowling Game',fontsize=10)"
   ]
  },
  {
   "cell_type": "markdown",
   "metadata": {},
   "source": [
    "### Defining Rolls, Spares and Strikes"
   ]
  },
  {
   "cell_type": "markdown",
   "metadata": {},
   "source": [
    "Our next few blocks of code we define a roll as ***rolls***. In the same fucntion we examine the amount of ***pins_left*** and determine the number of ***pins_hit*** by the player, where ***pins_hit*** is initialized as.\n",
    "\n",
    "$$\\text{pins_hit} = [0,0,0,0,0,0,0,0,0,0]$$\n",
    "\n",
    "The number of ***pins_hit*** is determined by ***round((Player's Skill level) $\\cdot10$)***. From here we give the player some error becuase if the players' skill is .6, then they will always knock down 6 pins. This would apply to any value when ***Player's skill (Pskill)*** is between 0 and 1. To determine the player's error is quite subjective, as an average player might get a strike in a game while also not hitting any pins. The following \"if\" statements are our assumptions as to how many pins the player would hit based on their skill level. "
   ]
  },
  {
   "cell_type": "code",
   "execution_count": null,
   "metadata": {},
   "outputs": [],
   "source": [
    "#    Do not run. We run the entire code later on in its own cell.\n",
    "\n",
    "if pins_hit == 0:\n",
    "        \n",
    "        sdPskill = [pins_hit,pins_hit+1, pins_hit+2,pins_hit+3]\n",
    "        \n",
    "    if pins_hit == 1:\n",
    "        \n",
    "        sdPskill = [pins_hit-1,pins_hit, pins_hit+1,pins_hit+2]\n",
    "        \n",
    "    if 1 < pins_hit <9:\n",
    "        \n",
    "        sdPskill = [0,pins_hit-2,pins_hit-1,pins_hit, pins_hit+1]\n",
    "        \n",
    "    if pins_hit == 9:\n",
    "        \n",
    "        sdPskill = [pins_hit-3,pins_hit-2,pins_hit-1, pins_hit,pins_hit+1]\n",
    "    \n",
    "    if pins_hit == 10:\n",
    "        \n",
    "        sdPskill = [pins_hit-2,pins_hit-1, pins_hit]\n",
    "    "
   ]
  },
  {
   "cell_type": "markdown",
   "metadata": {},
   "source": [
    "After the program has decided how many pins they can potentially hit, determined by ***sdPskill***, we can then use ***random.choice(sdPskill)*** to choose the number of pins they hit for that roll. Then we have a ***for*** loop where the range is equal to the number that was randomly chosen to replace the values of the 0's in ***pins_left*** with 1's. The sum of the new ***pins_left*** is the score of the player on the first roll. If the sum of ***pins left*** is equal to 10, then we return ***[sum(pins_left),0,\"Strike!\"]***. \n",
    "\n"
   ]
  },
  {
   "cell_type": "code",
   "execution_count": null,
   "metadata": {},
   "outputs": [],
   "source": [
    "# Do not run \n",
    "\n",
    "for i in range(y): \n",
    "    \n",
    "        pins_left[i] = 1 \n",
    "        \n",
    "    ## If the player gets a strike on the first roll\n",
    "\n",
    "    if sum(pins_left) == 10:\n",
    "        \n",
    "        #print(\"Stirke!\")\n",
    "        \n",
    "        return [sum(pins_left),0,\"Strike!\"]\n",
    "    \n",
    "    tot_points1 = sum(pins_left)"
   ]
  },
  {
   "cell_type": "markdown",
   "metadata": {},
   "source": [
    "If the sum of ***pins_left*** is not 10 at this point in the function, then this implies that there are still zeroes in ***pins_left***. Taking out the ones and leaving the zeroes, prepares us for our next roll. From here we choose a random number from ***sdPskill*** and this determines the amount of pins hit. However, if the amount of pins the player can potentially hit are not available (e.g. if the value chosen in ***sdPskill*** is greater than the number of pins to hit) in ***pins_left***, then we assume the player hits all the pins in the next roll. Here we check to see if the player has a spare. If they do, the function returns ***[tot_points1,tot_points2,\"Spare!\"]***. Otherwise we assume the player has an open frame and returns ***[tot_points1,tot_points2,\"Open Frame!\"]***."
   ]
  },
  {
   "cell_type": "code",
   "execution_count": null,
   "metadata": {},
   "outputs": [],
   "source": [
    "# Do not run\n",
    "\n",
    "while 1 in pins_left:\n",
    "        \n",
    "        pins_left.remove(1)\n",
    "\n",
    "    ## Roll two will now begin. Same idea with the first roll    \n",
    "    ## Except now we take into account that the amount of pins hit \n",
    "    ## (determined by the players skill level), \n",
    "    ## may be higher than the number of pins available to hit. \n",
    "    \n",
    "    y = random.choice(sdPskill)\n",
    "    \n",
    "if y > len(pins_left):\n",
    "        \n",
    "    y = len(pins_left)\n",
    "        \n",
    "    # Displays the amount of pins the player hit.    \n",
    "    \n",
    "for i in range(y): \n",
    "       \n",
    "    pins_left[i] = 1 \n",
    "       \n",
    "tot_points2 = sum(pins_left)\n",
    "    \n",
    "#print(\"Total number of pins hit after the second roll: \", \n",
    "# pins_left,\"total points accumalated: \", tot_points1+tot_points2)\n",
    "    \n",
    "if tot_points1+tot_points2 == 10:\n",
    "        \n",
    "    return [tot_points1,tot_points2,\"Spare!\"]\n",
    "        \n",
    "return [tot_points1,tot_points2,\"Open Frame!\"]"
   ]
  },
  {
   "cell_type": "markdown",
   "metadata": {},
   "source": [
    "The cells above (cells 5 to 7) compose the fucntion called ***rolls** defined below."
   ]
  },
  {
   "cell_type": "code",
   "execution_count": 9,
   "metadata": {},
   "outputs": [],
   "source": [
    "#run this\n",
    "\n",
    "def rolls(Pskill):\n",
    "    \n",
    "    pins_left = [0,0,0,0,0,0,0,0,0,0]\n",
    "    \n",
    "    pins_hit = round(Pskill*10)\n",
    "    \n",
    "    ## based on their skill level, the player can knock down a,b, \n",
    "    ## or c number of pins. This is displayed as [a,b,c] in sdPskill.\n",
    "    \n",
    "    if pins_hit == 0:\n",
    "        \n",
    "        sdPskill = [pins_hit,pins_hit+1, pins_hit+2,pins_hit+3]\n",
    "        \n",
    "    if pins_hit == 1:\n",
    "        \n",
    "        sdPskill = [pins_hit-1,pins_hit, pins_hit+1,pins_hit+2]\n",
    "        \n",
    "    if 1 < pins_hit <9:\n",
    "        \n",
    "        sdPskill = [0,pins_hit-2,pins_hit-1,pins_hit, pins_hit+1]\n",
    "        \n",
    "    if pins_hit == 9:\n",
    "        \n",
    "        sdPskill = [pins_hit-3,pins_hit-2,pins_hit-1, \n",
    "                    pins_hit,pins_hit+1]\n",
    "    \n",
    "    if pins_hit == 10:\n",
    "        \n",
    "        sdPskill = [pins_hit-2,pins_hit-1, pins_hit]\n",
    "    \n",
    "    ## creates some error among the player. \n",
    "    \n",
    "    y = random.choice(sdPskill)\n",
    "     \n",
    "    ## Displays the amount of pins the player hit.\n",
    "    \n",
    "    for i in range(y): \n",
    "    \n",
    "        pins_left[i] = 1 \n",
    "        \n",
    "    ## If the player gets a strike on the first roll\n",
    "\n",
    "    if sum(pins_left) == 10:\n",
    "        \n",
    "        #print(\"Stirke!\")\n",
    "        \n",
    "        return [sum(pins_left),0,\"Strike!\"]\n",
    "    \n",
    "    tot_points1 = sum(pins_left)\n",
    "    \n",
    "    #print(\"Total number of pins hit after the first roll: \", \n",
    "    # pins_left,\"total points accumalated: \", tot_points1)\n",
    "\n",
    "    #print(pins_left)\n",
    "    \n",
    "    ## Prepares for roll two. The pins that were not hit on roll one \n",
    "    ## will now be aimed for in roll two. \n",
    "    \n",
    "    ## Removes the pins that were hit. \n",
    "    \n",
    "    while 1 in pins_left:\n",
    "        \n",
    "        pins_left.remove(1)\n",
    "\n",
    "    ## Roll two will now begin. Same idea with the first roll    \n",
    "    ## Except now we take into account that the amount of pins hit \n",
    "    ## (determined by the players skill level), \n",
    "    ## may be higher than the number of pins available to hit. \n",
    "    \n",
    "    y = random.choice(sdPskill)\n",
    "    \n",
    "    if y > len(pins_left):\n",
    "        \n",
    "        y = len(pins_left)\n",
    "        \n",
    "    # Displays the amount of pins the player hit.    \n",
    "    \n",
    "    for i in range(y): \n",
    "       \n",
    "        pins_left[i] = 1 \n",
    "       \n",
    "    tot_points2 = sum(pins_left)\n",
    "    \n",
    "    #print(\"Total number of pins hit after the second roll: \", \n",
    "    # pins_left,\"total points accumalated: \", tot_points1+tot_points2)\n",
    "    \n",
    "    if tot_points1+tot_points2 == 10:\n",
    "        \n",
    "        return [tot_points1,tot_points2,\"Spare!\"]\n",
    "        \n",
    "    return [tot_points1,tot_points2,\"Open Frame!\"]"
   ]
  },
  {
   "cell_type": "markdown",
   "metadata": {},
   "source": [
    "## Defining a Game"
   ]
  },
  {
   "cell_type": "markdown",
   "metadata": {},
   "source": [
    "We are now ready to create the rules for a game! First, we append 10 rolls to ***frames***. After this, we check ***frames*** for any elements that have the string \"Spare!\" or \"Strike!\" in it. \n",
    "\n",
    "If the element contains the string \"Spare!\" and if it is not the last element in the list ***frames***, add the next element of ***frames*** to the original score, specifically ***tot_points1***. Finally we append this score to a new list called ***scores***.\n",
    "\n",
    "If the element contains the string \"Stirke!\" and if it is not the last element in the list ***frames***, add the next two elements, **tot_points1** and ***tot_points2***, to the original score. \n",
    "\n",
    "If the element contains a \"Spare!\" and if it is the last element, call the funtion ***rolls*** again then add ***tot_points_1*** to the original score.\n",
    "\n",
    "If the element contains a \"Strike!\" and if it is the last element, call the funtion ***rolls*** again then add ***tot_points1*** and ***tot_points2*** to the original score.\n",
    "\n",
    "After appending all the summed scores to ***scores*** for each frame, we sum up the true total of each frame.\n",
    "\n"
   ]
  },
  {
   "cell_type": "code",
   "execution_count": 7,
   "metadata": {},
   "outputs": [],
   "source": [
    "\n",
    "\n",
    "def Game(Pskill):\n",
    "    # print(\"Player's skill level:\", Pskill)\n",
    "    frames = []\n",
    "    scores = []\n",
    "    ## Spares return [total1, total2, \"Spare!\"]\n",
    "    ## Strikes return [total1, \"Strike!\"]\n",
    "    ## Open Frames return [total1, total2, \"Open Frame!\"]\n",
    "    \n",
    "    for i in range(10):\n",
    "        \n",
    "        frames.append(rolls(Pskill))\n",
    "    \n",
    "    # print (\"Frames before checking for spares and strikes: \",frames)\n",
    "    # print (\"Length of Frames is: \",len(frames))\n",
    "    # print (\"Frame 0 is: \",frames[0])\n",
    "    # print (\" \")\n",
    "    \n",
    "    for j in range(10):\n",
    "        \n",
    "        if \"Spare!\" in frames[j] and j < 9:\n",
    "            \n",
    "            scores.append(frames[j][0]+frames[j][1]+frames[j+1][0]) \n",
    "              \n",
    "        if \"Spare!\" in frames[j] and j == 9:\n",
    "                \n",
    "            r = rolls(Pskill)\n",
    "                \n",
    "            score1 = r[0]\n",
    "            \n",
    "            score2 = r[1]\n",
    "            \n",
    "            scores.append(frames[j][0]+frames[j][1]+score1)\n",
    "              \n",
    "        if \"Strike!\" in frames[j] and j < 9:\n",
    "            \n",
    "            scores.append(frames[j][0]+frames[j][1]+frames[j+1][0]+\n",
    "                          frames[j+1][1]) \n",
    "            \n",
    "        if \"Strike!\" in frames[j] and j == 9:\n",
    "                \n",
    "            r = rolls(Pskill)\n",
    "                \n",
    "            score1 = r[0]\n",
    "            \n",
    "            score2 = r[1]\n",
    "            \n",
    "            scores.append(frames[j][0]+frames[j][1]+score1 +score2)\n",
    "        \n",
    "              \n",
    "        if \"Open Frame!\" in frames[j]:\n",
    "            \n",
    "            scores.append(frames[j][0]+frames[j][1])\n",
    "            \n",
    "    # print (\"Frames After checking for spares and strikes: \",frames)\n",
    "    # print(\"Score List: \", scores)\n",
    "    # print(\"Sum of Scores is: \",sum(scores))\n",
    "    # print (\" \")\n",
    "    \n",
    "    return sum(scores)"
   ]
  },
  {
   "cell_type": "markdown",
   "metadata": {},
   "source": [
    "## Gathering Data for the Simulation "
   ]
  },
  {
   "cell_type": "markdown",
   "metadata": {},
   "source": [
    "Finally, we are able to plot our distribution of scores based on the amount of games we want to play ***games***, and the $\\alpha$ and $\\beta$ mentioned earlier. "
   ]
  },
  {
   "cell_type": "code",
   "execution_count": 10,
   "metadata": {},
   "outputs": [],
   "source": [
    "yvec = []\n",
    "def final(games,a,b):\n",
    "    \n",
    "    for p in range(games):\n",
    "    \n",
    "        Pskill = random.betavariate(a,b)\n",
    "        \n",
    "        yvec.append(Game(Pskill))\n",
    "    \n",
    "    mu=mean(yvec)\n",
    "    ## Shows the distributon of skill level\n",
    "\n",
    "    plt.subplot(1,2,1)\n",
    "    plt.plot(x, beta.pdf(x, a, b),\n",
    "        'r-', lw=1, alpha=0.6, label='beta pdf')\n",
    "    plt.xlabel(\"Player's Skill Level\")\n",
    "    plt.ylabel('Frequency')\n",
    "    plt.title('Player''s Skill level in a Bowling Game',fontsize=10)\n",
    "    \n",
    "    ## Shows the distribution of scores for each game\n",
    "    \n",
    "    plt.subplot(1,2,2)\n",
    "    n, bins, patches = plt.hist(x=yvec, bins='auto', color='#0504aa',\n",
    "                            alpha=0.7, rwidth=0.85)\n",
    "    plt.axvline(mu,color = 'r')\n",
    "    plt.grid(axis='y', alpha=0.75)\n",
    "    plt.xlabel('Total Score')\n",
    "    plt.title('Score per Bowling Game',fontsize=10)\n",
    "    maxfreq = n.max()\n",
    "    # Set a clean upper y-axis limit.\n",
    "    plt.ylim(ymax=np.ceil(maxfreq / 10) * 10 if maxfreq % 10 else \n",
    "             maxfreq + 10)\n",
    "    \n",
    "    print(\"mean:\", round(mu,3))\n",
    "    print(\"The standard deviation of all the scores is\",\n",
    "          round(np.std(yvec),3))\n",
    "    \n",
    "    return plt.show()"
   ]
  },
  {
   "cell_type": "code",
   "execution_count": 11,
   "metadata": {
    "scrolled": false
   },
   "outputs": [
    {
     "name": "stdout",
     "output_type": "stream",
     "text": [
      "mean: 79.31\n",
      "The standard deviation of all the scores is 31.181\n"
     ]
    },
    {
     "data": {
      "image/png": "[encoded data removed]",
      "text/plain": [
       "<Figure size 432x288 with 2 Axes>"
      ]
     },
     "metadata": {
      "needs_background": "light"
     },
     "output_type": "display_data"
    }
   ],
   "source": [
    "final(200000,6,6)"
   ]
  },
  {
   "cell_type": "markdown",
   "metadata": {},
   "source": [
    "## Conclusion and Reflection"
   ]
  },
  {
   "cell_type": "markdown",
   "metadata": {},
   "source": [
    "From the simulation, we get that the while playing 200,000 games we can find the mean score. As a result, we find that for 200000 games of bowling with the skill distribution being a beta function with $\\alpha$ and $\\beta$ being 6, the average score is around 79.3 with a standard deviation of 31.2. \n",
    "\n",
    "Remeber the boundaries, $a$ and $b$, ( $\\alpha$ and $\\beta$ ) determine how strict the skill distribuition is. Some things that could be more analysed is to what $a$ and $b$ should be so that we have the best possible representation of the distribution of scores. Also something that can be explored more is the list variable ***sdPskill*** as the variation of the number of pins hit could be more analysed and be coded more accurately than what is presented here.  "
   ]
  }
 ],
 "metadata": {
  "kernelspec": {
   "display_name": "Python 3",
   "language": "python",
   "name": "python3"
  },
  "language_info": {
   "codemirror_mode": {
    "name": "ipython",
    "version": 3
   },
   "file_extension": ".py",
   "mimetype": "text/x-python",
   "name": "python",
   "nbconvert_exporter": "python",
   "pygments_lexer": "ipython3",
   "version": "3.8.3"
  }
 },
 "nbformat": 4,
 "nbformat_minor": 4
}
